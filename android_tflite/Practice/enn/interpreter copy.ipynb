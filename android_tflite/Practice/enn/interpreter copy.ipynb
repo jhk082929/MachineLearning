{
 "cells": [
  {
   "cell_type": "code",
   "execution_count": 1,
   "metadata": {},
   "outputs": [],
   "source": [
    "import tensorflow as tf\n",
    "import numpy as np\n",
    "import cv2\n",
    "from PIL import Image\n",
    "import matplotlib.pyplot as plt"
   ]
  },
  {
   "cell_type": "code",
   "execution_count": 2,
   "metadata": {},
   "outputs": [],
   "source": [
    "class_number_to_str_name = [\n",
    "    \"person\", \"bicycle\", \"car\", \"motorbike\", \"aeroplane\", \"bus\", \"train\", \"truck\",\n",
    "    \"boat\", \"traffic light\", \"fire hydrant\", \"stop sign\", \"parking meter\", \"bench\",\n",
    "    \"bird\", \"cat\", \"dog\", \"horse\", \"sheep\", \"cow\", \"elephant\", \"bear\", \"zebra\", \"giraffe\",\n",
    "    \"backpack\", \"umbrella\", \"handbag\", \"tie\", \"suitcase\", \"frisbee\", \"skis\", \"snowboard\",\n",
    "    \"sports ball\", \"kite\", \"baseball bat\", \"baseball glove\", \"skateboard\", \"surfboard\",\n",
    "    \"tennis racket\", \"bottle\", \"wine glass\", \"cup\", \"fork\", \"knife\", \"spoon\", \"bowl\",\n",
    "    \"banana\", \"apple\", \"sandwich\", \"orange\", \"broccoli\", \"carrot\", \"hot dog\", \"pizza\",\n",
    "    \"donut\", \"cake\", \"chair\", \"sofa\", \"potted plant\", \"bed\", \"dining table\", \"toilet\",\n",
    "    \"tvmonitor\", \"laptop\", \"mouse\", \"remote\", \"keyboard\", \"cell phone\", \"microwave\",\n",
    "    \"oven\", \"toaster\", \"sink\", \"refrigerator\", \"book\", \"clock\", \"vase\", \"scissors\",\n",
    "    \"teddy bear\", \"hair drier\", \"toothbrush\"\n",
    "]"
   ]
  },
  {
   "cell_type": "code",
   "execution_count": 13,
   "metadata": {},
   "outputs": [],
   "source": [
    "default_model = \"./yolo_v4_tiny_float/default_yolo_v4_tiny_float.tflite\"\n",
    "samsung_model = \"./yolo_v4_tiny_float/samsung_yolo_v4_tiny_float.tflite\"\n",
    "\n",
    "model_path = default_model\n",
    "\n",
    "interpreter = tf.lite.Interpreter(model_path=model_path)\n",
    "\n",
    "interpreter.allocate_tensors()"
   ]
  },
  {
   "cell_type": "code",
   "execution_count": 16,
   "metadata": {},
   "outputs": [
    {
     "name": "stdout",
     "output_type": "stream",
     "text": [
      "== input tensor information ==\n",
      "input tensor 0:\n",
      "\tname: input_1\n",
      "\tshape: [  1 416 416   3]\n",
      "\tdtype: <class 'numpy.float32'>\n",
      "\n",
      "== output tensor information ==\n",
      "output tensor 0:\n",
      "\tname: Identity\n",
      "\tshape: [   1 2535    4]\n",
      "\tdtype: <class 'numpy.float32'>\n",
      "\n",
      "output tensor 1:\n",
      "\tname: Identity_1\n",
      "\tshape: [   1 2535   80]\n",
      "\tdtype: <class 'numpy.float32'>\n",
      "\n"
     ]
    }
   ],
   "source": [
    "# 모델 분석\n",
    "\n",
    "# 입력 및 출력 정보 얻기\n",
    "input_details = interpreter.get_input_details()\n",
    "output_details = interpreter.get_output_details()\n",
    "\n",
    "# 입력 텐서 정보 출력\n",
    "print(\"== input tensor information ==\")\n",
    "for i, detail in enumerate(input_details):\n",
    "    print(f\"input tensor {i}:\")\n",
    "    print(f\"\\tname: {detail['name']}\")\n",
    "    print(f\"\\tshape: {detail['shape']}\")\n",
    "    print(f\"\\tdtype: {detail['dtype']}\")\n",
    "    print()\n",
    "\n",
    "# 출력 텐서 정보 출력\n",
    "print(\"== output tensor information ==\")\n",
    "for i, detail in enumerate(output_details):\n",
    "    print(f\"output tensor {i}:\")\n",
    "    print(f\"\\tname: {detail['name']}\")\n",
    "    print(f\"\\tshape: {detail['shape']}\")\n",
    "    print(f\"\\tdtype: {detail['dtype']}\")\n",
    "    print()"
   ]
  },
  {
   "cell_type": "code",
   "execution_count": 5,
   "metadata": {},
   "outputs": [],
   "source": [
    "# 입력 데이터 (입력 이미지) 전처리\n",
    "image_path = \"./images/4.jpg\"\n",
    "\n",
    "input_size = input_details[0]['shape'][1:3] # model shape 정보에서 size를 추출\n",
    "input_width = input_details[0]['shape'][1]\n",
    "input_height = input_details[0]['shape'][2]\n",
    "\n",
    "input_data = Image.open(image_path)\n",
    "input_data = input_data.resize(([input_width, input_height]))\n",
    "input_data = np.array(input_data, dtype=np.float32)\n",
    "input_data = input_data / 255.0  # YOLO는 일반적으로 [0, 1] 범위로 정규화\n",
    "input_data = np.expand_dims(input_data, axis=0)  # 배치 차원 추가"
   ]
  },
  {
   "cell_type": "code",
   "execution_count": 6,
   "metadata": {},
   "outputs": [],
   "source": [
    "# 입력 텐서 설정\n",
    "interpreter.set_tensor(input_details[0]['index'], input_data)\n",
    "\n",
    "# 추론 실행\n",
    "interpreter.invoke()"
   ]
  },
  {
   "cell_type": "code",
   "execution_count": 7,
   "metadata": {},
   "outputs": [
    {
     "name": "stdout",
     "output_type": "stream",
     "text": [
      "[[ 11.205271    8.568879   25.071056   18.65446  ]\n",
      " [ 23.220482    6.3585234  49.515987   13.703494 ]\n",
      " [ 39.930122    5.454539   73.388664   11.937492 ]\n",
      " ...\n",
      " [328.1985    386.62402   219.00336   195.39273  ]\n",
      " [362.05118   386.25354   213.56212   212.73016  ]\n",
      " [397.54865   388.2361    230.18303   257.90527  ]]\n"
     ]
    }
   ],
   "source": [
    "# 출력 텐서 가져오기\n",
    "output_boxes = interpreter.get_tensor(output_details[0]['index'])[0]  # [1, 2535, 4] -> [2535, 4]\n",
    "output_classes = interpreter.get_tensor(output_details[1]['index'])[0]  # [1, 2535, 80] -> [2535, 80]\n",
    "\n",
    "print(output_boxes)\n",
    "\n",
    "# 원본 이미지 로드 및 변환\n",
    "original_image = cv2.imread(image_path)\n",
    "original_image_rgb = cv2.cvtColor(original_image, cv2.COLOR_BGR2RGB)\n",
    "\n",
    "original_width = original_image.shape[0]\n",
    "original_height = original_image.shape[1]"
   ]
  },
  {
   "cell_type": "code",
   "execution_count": 8,
   "metadata": {},
   "outputs": [
    {
     "name": "stdout",
     "output_type": "stream",
     "text": [
      "{'box': array([131.46312, 110.70185, 251.89836, 156.60028], dtype=float32), 'probability': 0.7988769, 'class': 49, 'name': 'orange'}\n",
      "{'box': array([135.63538, 113.65448, 258.25247, 160.58606], dtype=float32), 'probability': 0.3193094, 'class': 49, 'name': 'orange'}\n",
      "{'box': array([ 90.86511, 167.35991, 122.65942, 204.02307], dtype=float32), 'probability': 0.3541014, 'class': 49, 'name': 'orange'}\n",
      "{'box': array([100.974434, 165.16595 , 141.24101 , 224.87541 ], dtype=float32), 'probability': 0.4926079, 'class': 49, 'name': 'orange'}\n",
      "{'box': array([142.25644, 204.9604 , 201.738  , 213.08353], dtype=float32), 'probability': 0.4677621, 'class': 49, 'name': 'orange'}\n",
      "{'box': array([132.04755, 199.53432, 190.04976, 231.3411 ], dtype=float32), 'probability': 0.25123793, 'class': 49, 'name': 'orange'}\n",
      "{'box': array([134.86867, 197.0836 , 197.43951, 229.68745], dtype=float32), 'probability': 0.63491607, 'class': 49, 'name': 'orange'}\n",
      "{'box': array([240.25185, 184.23856, 286.31326, 346.6111 ], dtype=float32), 'probability': 0.24533857, 'class': 49, 'name': 'orange'}\n",
      "{'box': array([175.87044, 209.49611, 341.48383, 348.5289 ], dtype=float32), 'probability': 0.35320807, 'class': 49, 'name': 'orange'}\n",
      "{'box': array([210.84935, 211.59189, 319.23624, 368.69604], dtype=float32), 'probability': 0.24288929, 'class': 49, 'name': 'orange'}\n",
      "{'box': array([245.4599 , 214.54546, 310.66278, 383.00986], dtype=float32), 'probability': 0.27828774, 'class': 49, 'name': 'orange'}\n",
      "{'box': array([243.38573, 238.42538, 308.1355 , 325.36182], dtype=float32), 'probability': 0.32253143, 'class': 49, 'name': 'orange'}\n"
     ]
    }
   ],
   "source": [
    "# YOLOv4 Tiny 모델 후처리\n",
    "def postprocess_boxes(boxes, classes, confidence_threshold=0.2):\n",
    "    # 박스와 클래스 정보에서 유의미한 정보만 추출\n",
    "    valid_boxes = []\n",
    "    for i in range(len(boxes)):\n",
    "        if np.max(classes[i] > confidence_threshold):  # confidence score\n",
    "            valid_boxes.append({\n",
    "                'box': boxes[i][:4],  # x, y, width, height\n",
    "                'probability': max(classes[i]),\n",
    "                'class': np.argmax(classes[i]),  # 가장 높은 클래스 확률  \n",
    "                'name': class_number_to_str_name[np.argmax(classes[i])]\n",
    "            })\n",
    "    return valid_boxes\n",
    "\n",
    "# 후처리된 박스 출력\n",
    "detected_boxes = postprocess_boxes(output_boxes, output_classes)\n",
    "\n",
    "for box in detected_boxes:\n",
    "    x_min = min(box['box'][0], box['box'][2])\n",
    "    x_max = max(box['box'][0], box['box'][2])\n",
    "    y_min = min(box['box'][1], box['box'][3])\n",
    "    y_max = max(box['box'][1], box['box'][3])\n",
    "    box['box'][0] = x_min\n",
    "    box['box'][2] = x_max\n",
    "    box['box'][1] = y_min\n",
    "    box['box'][3] = y_max\n",
    "    print(box)"
   ]
  },
  {
   "cell_type": "code",
   "execution_count": 9,
   "metadata": {},
   "outputs": [],
   "source": [
    "# (선택 사항) 결과 이미지 시각화\n",
    "def draw_boxes(image, boxes, x_ratio, y_ratio, class_names):\n",
    "    for box in boxes:\n",
    "        # x_min, y_min, x_max, y_max = map(int, box['box'])\n",
    "        x_min, y_min, width, height = box['box']\n",
    "        \n",
    "        x_min = int(x_min * x_ratio)\n",
    "        y_min = int(y_min * y_ratio)\n",
    "        width = int(width * x_ratio)\n",
    "        height = int(height * y_ratio)\n",
    "        \n",
    "        class_id = box['class']\n",
    "        # confidence = box['score']\n",
    "        color = (0, 255, 0)  # 녹색\n",
    "        # label = f\"Class {class_id} ({confidence:.2f})\"\n",
    "        cv2.rectangle(image, (x_min, y_min), (width, height), color, 2)\n",
    "        # cv2.putText(image, label, (x_min, y_min - 10), cv2.FONT_HERSHEY_SIMPLEX, 0.9, color, 2)\n",
    "    return image\n",
    "\n",
    "\n",
    "# print(original_width, original_height, input_width, input_height)\n",
    "# 이미지에 박스 그리기\n",
    "\n",
    "image_with_boxes = draw_boxes(original_image_rgb, detected_boxes, (original_width / input_width), (original_height / input_height), class_names=None)\n",
    "cv2.imshow('Detected Objects', image_with_boxes)\n",
    "cv2.waitKey(0)\n",
    "cv2.destroyAllWindows()"
   ]
  },
  {
   "cell_type": "markdown",
   "metadata": {},
   "source": []
  }
 ],
 "metadata": {
  "kernelspec": {
   "display_name": "tf2",
   "language": "python",
   "name": "tf2"
  },
  "language_info": {
   "codemirror_mode": {
    "name": "ipython",
    "version": 3
   },
   "file_extension": ".py",
   "mimetype": "text/x-python",
   "name": "python",
   "nbconvert_exporter": "python",
   "pygments_lexer": "ipython3",
   "version": "3.8.19"
  }
 },
 "nbformat": 4,
 "nbformat_minor": 2
}
